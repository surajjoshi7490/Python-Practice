{
  "cells": [
    {
      "cell_type": "markdown",
      "id": "a346b827",
      "metadata": {},
      "source": [
        "### Today's Words  \n",
        "**Date:** 06/04/2025  \n",
        "\n",
        "1. **Clutch** → \\(हांथों से\\) [Help in end time]  \n",
        "   - *She clutched me in fear.*  \n",
        "   - *He help clutched my hand and threw me out of the class during exam.*  \n",
        "\n",
        "2. **Visage** → Face or facial expression [viz-ij]  \n",
        "   - *Bro, you have a calm visage.*  \n",
        "   - *Her visage looks kind even when she cries.*  \n",
        "\n",
        "---  \n",
        "**Tasks Done:**  \n",
        "- Learned *args and **kwargs  \n",
        "- *args → Store in tuples  \n",
        "- **kwargs → Store in dict  \n",
        "- Solved some exercise of Udemy course  \n"
      ]
    }
  ],
  "metadata": {
    "language_info": {
      "name": "python"
    }
  },
  "nbformat": 4,
  "nbformat_minor": 5
}
