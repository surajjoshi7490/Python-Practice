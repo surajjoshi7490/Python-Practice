{
  "cells": [
    {
      "cell_type": "markdown",
      "id": "f01d7429",
      "metadata": {},
      "source": [
        "### Python `math` Module Functions  \n",
        "\n",
        "| **Function** | **Use / Kaam kya karta hai** | **Example** |\n",
        "|--------------|------------------------------|-------------|\n",
        "| `math.sqrt(x)` | Square root nikaalta hai | `math.sqrt(16)` → 4.0 |\n",
        "| `math.pow(x, y)` | x^y (power) karta hai | `math.pow(2, 3)` → 8.0 |\n",
        "| `math.floor(x)` | Neeche ka integer deta hai (round down) | `math.floor(4.9)` → 4 |\n",
        "| `math.ceil(x)` | Upar ka integer deta hai (round up) | `math.ceil(4.1)` → 5 |\n",
        "| `math.factorial(x)` | x! (factorial) deta hai | `math.factorial(5)` → 120 |\n",
        "| `math.prod(iterable)` | List ke sab elements multiply karta hai | `math.prod([2, 3, 4])` → 24 |\n",
        "| `math.gcd(x, y)` | Dono ka GCD deta hai (common divisor) | `math.gcd(12, 18)` → 6 |\n",
        "| `math.lcm(x, y)` | Dono ka LCM deta hai (Python 3.9+ only) | `math.lcm(4, 6)` → 12 |\n",
        "| `math.isqrt(x)` | Integer square root (no decimal) deta hai | `math.isqrt(10)` → 3 |\n",
        "| `math.log(x)` | Natural log (base e) deta hai | `math.log(10)` |\n",
        "| `math.log10(x)` | Base-10 ka logarithm deta hai | `math.log10(100)` → 2.0 |\n",
        "| `math.pi` | π (pi) constant deta hai | `math.pi` → 3.1415... |\n",
        "| `math.e` | e constant deta hai | `math.e` → 2.718... |\n",
        "| `math.degrees(x)` | Radians ko degrees mein convert karta hai | `math.degrees(math.pi)` → 180 |\n",
        "| `math.radians(x)` | Degrees ko radians mein convert karta hai | `math.radians(180)` → π |\n",
        "| `math.sin(x)` / `cos(x)` / `tan(x)` | Trigonometry ke liye (in radians) | `math.sin(math.pi/2)` → 1.0 |\n"
      ]
    },
    {
      "cell_type": "markdown",
      "id": "usecases80",
      "metadata": {},
      "source": [
        "### ✅ 80% Real Use Cases  \n",
        "- **Square root**: `math.sqrt()`  \n",
        "- **Round down/up**: `math.floor()`, `math.ceil()`  \n",
        "- **Multiplying lists**: `math.prod()`  \n",
        "- **GCD/LCM**: `math.gcd()`, `math.lcm()`  \n",
        "- **Factorial for logic-based problems**: `math.factorial()`  \n",
        "- **Trigonometry (angles, sin/cos)**: `math.sin()`, `math.cos()`, etc.  \n"
      ]
    }
  ],
  "metadata": {
    "language_info": {
      "name": "python"
    }
  },
  "nbformat": 4,
  "nbformat_minor": 5
}
