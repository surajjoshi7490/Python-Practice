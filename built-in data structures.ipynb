{
    "cells": [
      {
        "cell_type": "code",
        "execution_count": null,
        "id": "cell-001",
        "metadata": {},
        "outputs": [],
        "source": []
      },
      {
        "cell_type": "markdown",
        "id": "cell-002",
        "metadata": {},
        "source": [
          "### Python Data Types: list, tuple, set, dict, string  \n",
          "\n",
          "| **Feature / Type** | **list** | **tuple** | **set** | **dict** | **string** |\n",
          "|--------------------|----------|-----------|---------|----------|------------|\n",
          "| ✅ **Ordered?** | ✅ Yes | ✅ Yes | ❌ No (Python 3.7+ me mostly yes) | ✅ Yes | ✅ Yes |\n",
          "| 🔁 **Duplicates?** | ✅ Yes | ✅ Yes | ❌ No | ❌ No (keys), ✅ values | ✅ Yes |\n",
          "| 🔧 **Mutable?** | ✅ Yes (change kar sakte) | ❌ No (fixed hota hai) | ✅ Yes | ✅ Yes | ❌ No |\n",
          "| 📦 **Syntax** | `[1, 2, 3]` | `(1, 2, 3)` | `{1, 2, 3}` | `{\"a\": 1, \"b\": 2}` | `'hello'` or `\"hello\"` |\n",
          "| 📚 **Use case** | Normal collection | Fixed collection | Unique items | Key-value pair store | Text handling |\n",
          "| 🔍 **Indexing allowed?** | ✅ Yes (`list[0]`) | ✅ Yes (`tuple[0]`) | ❌ No indexing | ✅ Keys use hote hain (`d[\"a\"]`) | ✅ Yes |\n",
          "| 🔃 **Loops?** | ✅ Yes | ✅ Yes | ✅ Yes | ✅ Yes | ✅ Yes |\n",
          "| 📥 **Add items** | `.append()` | ❌ Not allowed | `.add()` | `dict[\"key\"] = value` | ❌ No |\n",
          "| ❌ **Remove items** | `.remove(), .pop()` | ❌ Not allowed | `.remove()` | `.pop(\"key\")` | ❌ No |\n",
          "| 📌 **Use in set/dict?** | ✅ If items are hashable | ✅ Yes (hashable) | ✅ If items are hashable | ✅ Keys must be immutable (like str, int, tuple) | ✅ Yes |\n"
        ]
      }
    ],
    "metadata": {
      "language_info": {
        "name": "python"
      }
    },
    "nbformat": 4,
    "nbformat_minor": 5
  }
  